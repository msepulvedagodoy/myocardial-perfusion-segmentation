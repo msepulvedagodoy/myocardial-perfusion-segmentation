{
  "nbformat": 4,
  "nbformat_minor": 0,
  "metadata": {
    "colab": {
      "name": "pre-processing.ipynb",
      "provenance": [],
      "collapsed_sections": [],
      "mount_file_id": "1F6FuIGTssPXr28wtPryqmkBV-p7EZryq",
      "authorship_tag": "ABX9TyNngZ4SNkKEA59gk0hmbFZ9",
      "include_colab_link": true
    },
    "kernelspec": {
      "name": "python3",
      "display_name": "Python 3"
    },
    "language_info": {
      "name": "python"
    }
  },
  "cells": [
    {
      "cell_type": "markdown",
      "metadata": {
        "id": "view-in-github",
        "colab_type": "text"
      },
      "source": [
        "<a href=\"https://colab.research.google.com/github/MatiasSepulvedaGodoy/myocardial-perfusion-segmentation/blob/develop/train.ipynb\" target=\"_parent\"><img src=\"https://colab.research.google.com/assets/colab-badge.svg\" alt=\"Open In Colab\"/></a>"
      ]
    },
    {
      "cell_type": "markdown",
      "metadata": {
        "id": "i2cCiMcpN6xD"
      },
      "source": [
        "# **Pre-processing images**\n",
        "\n",
        "This colab is an example for load, processing and apply ROI detection in the images."
      ]
    },
    {
      "cell_type": "markdown",
      "metadata": {
        "id": "tnvQASXNaiwE"
      },
      "source": [
        "We load libraries that we don't have in colab:"
      ]
    },
    {
      "cell_type": "code",
      "metadata": {
        "colab": {
          "base_uri": "https://localhost:8080/"
        },
        "id": "Za0KOnH2aohF",
        "outputId": "dfe02dcc-ca4d-4d43-c0d9-2f0315ea3238"
      },
      "source": [
        "pip install pydicom"
      ],
      "execution_count": null,
      "outputs": [
        {
          "output_type": "stream",
          "name": "stdout",
          "text": [
            "Collecting pydicom\n",
            "  Downloading pydicom-2.2.2-py3-none-any.whl (2.0 MB)\n",
            "\u001b[K     |████████████████████████████████| 2.0 MB 5.2 MB/s \n",
            "\u001b[?25hInstalling collected packages: pydicom\n",
            "Successfully installed pydicom-2.2.2\n"
          ]
        }
      ]
    },
    {
      "cell_type": "markdown",
      "metadata": {
        "id": "C2DLkfiZODgo"
      },
      "source": [
        "We import libraries:"
      ]
    },
    {
      "cell_type": "code",
      "metadata": {
        "id": "Ib7PHvaJHwV1"
      },
      "source": [
        "import os\n",
        "import pydicom\n",
        "import numpy as np\n",
        "import torch\n",
        "import torchvision\n",
        "import nibabel as nib\n",
        "from google.colab.patches import cv2_imshow"
      ],
      "execution_count": null,
      "outputs": []
    },
    {
      "cell_type": "markdown",
      "metadata": {
        "id": "X8Zv-Q52rwq-"
      },
      "source": [
        "## Load images with Pytorch\n"
      ]
    },
    {
      "cell_type": "markdown",
      "metadata": {
        "id": "GC71mjIC3hwB"
      },
      "source": [
        "We create a pytorch Dataset class for load all the images:"
      ]
    },
    {
      "cell_type": "code",
      "metadata": {
        "id": "wqHVooizXCRy"
      },
      "source": [
        "class MyocardialPerfusionDataset(torch.utils.data.Dataset):\n",
        "\n",
        "    def __init__(self, root, transform=True) -> None:\n",
        "        self.root = root\n",
        "        self.transform = transform\n",
        "\n",
        "        # create a dictionary for images.\n",
        "        locations = list(sorted(os.listdir(os.path.join(self.root, 'dicom'))))\n",
        "        img_dict = []\n",
        "        for loc in locations:\n",
        "            marks_ = nib.load(os.path.join(self.root, 'marks', '%s.nii.gz' % loc)).get_fdata()\n",
        "            for index, img in enumerate(list(sorted(os.listdir(os.path.join(self.root, loc))))):\n",
        "                if np.max(marks_[:,:,index]) > 0:\n",
        "                    dict_ = {'patient_id': loc, 'img_dir': os.path.join(self.root, loc, img), 'mark': index}\n",
        "                    img_dict.append(dict_)\n",
        "        \n",
        "        self.img_dict = img_dict\n",
        "\n",
        "    def __getitem__(self, idx):\n",
        "        path_img = self.img_dict[idx]['img_dir']\n",
        "        \n",
        "        # We load raw image from dicom.\n",
        "        dicom = pydicom.read_file(path_img).pixel_array\n",
        "        dicom = dicom.astype('int32')\n",
        "\n",
        "        # We load mark for the image.\n",
        "        mark = nib.load(os.path.join(self.root, 'marks', '%s.nii.gz' % self.img_dict[idx]['patient_id'])).get_fdata()[self.img_dict[idx]['mark']]"
      ],
      "execution_count": null,
      "outputs": []
    },
    {
      "cell_type": "markdown",
      "metadata": {
        "id": "Klt_Ek8u3thw"
      },
      "source": [
        "## Create Dataloader"
      ]
    },
    {
      "cell_type": "code",
      "metadata": {
        "id": "g_LPbGGJjFnT"
      },
      "source": [
        ""
      ],
      "execution_count": null,
      "outputs": []
    },
    {
      "cell_type": "markdown",
      "metadata": {
        "id": "Wd6dciNI5UQp"
      },
      "source": [
        "## Utils"
      ]
    },
    {
      "cell_type": "code",
      "metadata": {
        "id": "hlUWd5nP5W5N"
      },
      "source": [
        "path = '/content/drive/MyDrive/Tesis/images/P-UCH/dicom/5371-2/IM-0002-0037-0001.dcm'"
      ],
      "execution_count": null,
      "outputs": []
    },
    {
      "cell_type": "code",
      "metadata": {
        "id": "uBDmztLUIp8k"
      },
      "source": [
        "img = pydicom.read_file(path).pixel_array\n",
        "img = img.astype('int32')"
      ],
      "execution_count": null,
      "outputs": []
    },
    {
      "cell_type": "code",
      "metadata": {
        "id": "9A-T7KkcIzaV"
      },
      "source": [
        "class ToTensor(object):\n",
        "\n",
        "    def __call__(self, sample):\n",
        "\n",
        "        image = torch.from_numpy(sample)\n",
        "        image = torch.unsqueeze(image, dim=0)\n",
        "        return image\n",
        "\n",
        "class ClipNorm(object):\n",
        "\n",
        "    def __init__(self, lower=0, upper=99):\n",
        "      self.lower = lower\n",
        "      self.upper = upper\n",
        "    \n",
        "\n",
        "    def __call__(self, sample):\n",
        "\n",
        "      lower_clip, upper_clip = np.percentile(sample, (self.lower, self.upper))\n",
        "      clip_sample = sample.clip(min=lower_clip, max=upper_clip)\n",
        "      clip_sample = self.rescale_intensity(clip_sample, (0, 255))\n",
        "\n",
        "      return clip_sample\n",
        "\n",
        "    def rescale_intensity(self, tensor, out_range):\n",
        "\n",
        "      current_min = torch.min(tensor)\n",
        "      current_max = torch.max(tensor)\n",
        "\n",
        "      tensor = (tensor - current_min) / (current_max - current_min)\n",
        "      tensor = out_range[0] + tensor * (out_range[1] - out_range[0])\n",
        "\n",
        "      return tensor\n",
        "\n",
        "class ZeroPad(object):\n",
        "\n",
        "    def __init__(self, size=256):\n",
        "      self.size = size\n",
        "\n",
        "    def __call__(self, sample):\n",
        "      if max(sample.size()[1], sample.size()[2]) > self.size:\n",
        "        raise ValueError(\"Data can't be padded to a smaller shape.\")\n",
        "      \n",
        "      h_pad = self.size - sample.size()[1]\n",
        "      w_pad = self.size - sample.size()[2]\n",
        "\n",
        "      padding_left = h_pad // 2\n",
        "      padding_right = h_pad - padding_left\n",
        "\n",
        "      padding_top = w_pad // 2\n",
        "      padding_bottom = w_pad - padding_top\n",
        " \n",
        "      padding = (padding_left, padding_right, padding_top, padding_bottom)\n",
        "\n",
        "      paddet_data = torch.nn.functional.pad(sample, padding)\n",
        "\n",
        "      return paddet_data          "
      ],
      "execution_count": null,
      "outputs": []
    },
    {
      "cell_type": "code",
      "metadata": {
        "id": "nPLKAPJ_XfOb"
      },
      "source": [
        "composed = torchvision.transforms.Compose([ToTensor(), ClipNorm(), ZeroPad()])"
      ],
      "execution_count": null,
      "outputs": []
    },
    {
      "cell_type": "code",
      "metadata": {
        "colab": {
          "base_uri": "https://localhost:8080/",
          "height": 273
        },
        "id": "fT1UiOrIYzUl",
        "outputId": "156cc031-53d5-4453-c8cc-94b39d12adb8"
      },
      "source": [
        "cv2_imshow(np.asarray(composed(img).permute(1, 2, 0)))"
      ],
      "execution_count": null,
      "outputs": [
        {
          "output_type": "display_data",
          "data": {
            "image/png": "[encoded data removed]",
            "text/plain": [
              "<PIL.Image.Image image mode=RGB size=256x256 at 0x7FE7C97CB890>"
            ]
          },
          "metadata": {}
        }
      ]
    }
  ]
}